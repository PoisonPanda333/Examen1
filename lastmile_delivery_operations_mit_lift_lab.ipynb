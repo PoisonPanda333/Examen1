{
  "nbformat": 4,
  "nbformat_minor": 0,
  "metadata": {
    "colab": {
      "provenance": []
    },
    "kernelspec": {
      "name": "python3",
      "display_name": "Python 3"
    },
    "language_info": {
      "name": "python"
    }
  },
  "cells": [
    {
      "cell_type": "code",
      "source": [
        "#instalamos funpymodeling\n",
        "%pip install funpymodeling"
      ],
      "metadata": {
        "id": "WJiVy3ToFNkA"
      },
      "execution_count": null,
      "outputs": []
    },
    {
      "cell_type": "code",
      "execution_count": 2,
      "metadata": {
        "id": "oyOkM19c3rjE"
      },
      "outputs": [],
      "source": [
        "#importamos las librerias\n",
        "import pandas as pd\n",
        "import numpy as np\n",
        "import matplotlib.pyplot as plt\n",
        "from funpymodeling.exploratory import freq_tbl\n"
      ]
    },
    {
      "cell_type": "code",
      "source": [
        "#importamos el archivo desde la computadora\n",
        "from google.colab import files\n",
        "files.upload()"
      ],
      "metadata": {
        "id": "9jkjqkZ34CuU"
      },
      "execution_count": null,
      "outputs": []
    },
    {
      "cell_type": "code",
      "source": [
        "#convertimos el archivo en un dataframe\n",
        "data1 = pd.read_csv(\"lastmile_delivery_operations_mit_lift_lab.csv\")\n",
        "data1"
      ],
      "metadata": {
        "id": "OkvH-Cep6MUS"
      },
      "execution_count": null,
      "outputs": []
    },
    {
      "cell_type": "code",
      "source": [
        "#comprobamos informacion del dataframe y el tipo de valor de cada columna\n",
        "data1.info()"
      ],
      "metadata": {
        "colab": {
          "base_uri": "https://localhost:8080/"
        },
        "id": "PgncOVh16aVj",
        "outputId": "1347a4d6-46ae-49f7-acdd-5594d79b6818"
      },
      "execution_count": 5,
      "outputs": [
        {
          "output_type": "stream",
          "name": "stdout",
          "text": [
            "<class 'pandas.core.frame.DataFrame'>\n",
            "RangeIndex: 182 entries, 0 to 181\n",
            "Data columns (total 29 columns):\n",
            " #   Column                                         Non-Null Count  Dtype  \n",
            "---  ------                                         --------------  -----  \n",
            " 0   _record_id                                     182 non-null    object \n",
            " 1   _title                                         176 non-null    object \n",
            " 2   _server_updated_at                             182 non-null    object \n",
            " 3   _updated_by                                    182 non-null    object \n",
            " 4   _geometry                                      182 non-null    object \n",
            " 5   _latitude                                      182 non-null    float64\n",
            " 6   _longitude                                     182 non-null    float64\n",
            " 7   arrival_of_the_freight_vehicle                 182 non-null    object \n",
            " 8   plates                                         181 non-null    object \n",
            " 9   company_if_visible                             109 non-null    object \n",
            " 10  visit_purpose                                  182 non-null    object \n",
            " 11  type_of_vehicle                                182 non-null    object \n",
            " 12  number_of_operators                            182 non-null    int64  \n",
            " 13  refrigerated_truck                             182 non-null    object \n",
            " 14  type_of_cargo                                  182 non-null    object \n",
            " 15  picture_of_the_parked_freight_vehicle          182 non-null    object \n",
            " 16  departure_of_the_freight_vehicle               182 non-null    object \n",
            " 17  where_was_the_vehicle_parked                   182 non-null    object \n",
            " 18  while_parked_was_the_engine_running            182 non-null    object \n",
            " 19  used_traffic_cone                              182 non-null    object \n",
            " 20  vehicles_unloading_door                        182 non-null    object \n",
            " 21  number_of_available_trolleys                   182 non-null    int64  \n",
            " 22  serving_customer                               35 non-null     float64\n",
            " 23  garage_blocking                                182 non-null    object \n",
            " 24  accident                                       182 non-null    object \n",
            " 25  describe_the_accident                          0 non-null      float64\n",
            " 26  noise                                          182 non-null    object \n",
            " 27  traffic_congestion                             182 non-null    object \n",
            " 28  maximum_number_of_vehicles_in_the_traffic_jam  2 non-null      float64\n",
            "dtypes: float64(5), int64(2), object(22)\n",
            "memory usage: 41.4+ KB\n"
          ]
        }
      ]
    },
    {
      "cell_type": "code",
      "source": [
        "#Comprobamos los valores nulos y comprobamos que tipo de dato es cada columna que tiene valores nulos\n",
        "valores_nulos=data1.isnull().sum()\n",
        "valores_nulos\n",
        "\n"
      ],
      "metadata": {
        "id": "7mozokUy6eAT",
        "colab": {
          "base_uri": "https://localhost:8080/"
        },
        "outputId": "02677307-304a-4097-da8d-0704b5ee18a6"
      },
      "execution_count": 6,
      "outputs": [
        {
          "output_type": "execute_result",
          "data": {
            "text/plain": [
              "_record_id                                         0\n",
              "_title                                             6\n",
              "_server_updated_at                                 0\n",
              "_updated_by                                        0\n",
              "_geometry                                          0\n",
              "_latitude                                          0\n",
              "_longitude                                         0\n",
              "arrival_of_the_freight_vehicle                     0\n",
              "plates                                             1\n",
              "company_if_visible                                73\n",
              "visit_purpose                                      0\n",
              "type_of_vehicle                                    0\n",
              "number_of_operators                                0\n",
              "refrigerated_truck                                 0\n",
              "type_of_cargo                                      0\n",
              "picture_of_the_parked_freight_vehicle              0\n",
              "departure_of_the_freight_vehicle                   0\n",
              "where_was_the_vehicle_parked                       0\n",
              "while_parked_was_the_engine_running                0\n",
              "used_traffic_cone                                  0\n",
              "vehicles_unloading_door                            0\n",
              "number_of_available_trolleys                       0\n",
              "serving_customer                                 147\n",
              "garage_blocking                                    0\n",
              "accident                                           0\n",
              "describe_the_accident                            182\n",
              "noise                                              0\n",
              "traffic_congestion                                 0\n",
              "maximum_number_of_vehicles_in_the_traffic_jam    180\n",
              "dtype: int64"
            ]
          },
          "metadata": {},
          "execution_count": 6
        }
      ]
    },
    {
      "cell_type": "code",
      "source": [
        "#se crea una copia del dataframe en la cual eliminaremos los valores nulos de las columnas tipo objetc y por lo tanto ser solo texto\n",
        "#se ha decidido sustituir por el mensaje de VACIO\n",
        "data=data1.copy()\n",
        "data[\"_title\"] =data[\"_title\"].fillna(\"VACIO\")\n",
        "data[\"plates\"] =data[\"plates\"].fillna(\"VACIO\")\n",
        "data[\"company_if_visible\"] =data[\"company_if_visible\"].fillna(\"VACIO\")"
      ],
      "metadata": {
        "id": "WOpFqsNn75Pz"
      },
      "execution_count": 7,
      "outputs": []
    },
    {
      "cell_type": "code",
      "source": [
        "#Comprobamos los valores nulos despues de la sustitucion de las columnas objeto\n",
        "valores_nulos=data.isnull().sum()\n",
        "valores_nulos"
      ],
      "metadata": {
        "id": "F_pSvQyV7A61"
      },
      "execution_count": null,
      "outputs": []
    },
    {
      "cell_type": "code",
      "source": [
        "#Separamos el dataframe en dos filtros, uno con variables cualitativas y otro con valores cuantitativos\n",
        "#se decio no agregar la columna 25 vacio ya que no tiene ningun dato que no sea nulo \n",
        "filtroO=data.iloc[ : , [0,1,2,3,4,7,8,9,10,11,13,14,15,16,17,18,19,20,23,24,26,27]]\n",
        "filtronum=data.iloc[ : , [12,21,22,28]]  \n",
        "filtroX=data.iloc[ : , [5,6]]  "
      ],
      "metadata": {
        "id": "iOKsGL19OJpv"
      },
      "execution_count": 12,
      "outputs": []
    },
    {
      "cell_type": "code",
      "source": [
        "#limpiamos valores nulos del filtro de cuantitativos\n",
        "filtroN=filtronum.copy()\n",
        "filtroN=filtroN.fillna(round(filtronum.mean(),1))\n",
        "filtroN"
      ],
      "metadata": {
        "id": "TVk107RWlDqC"
      },
      "execution_count": null,
      "outputs": []
    },
    {
      "cell_type": "code",
      "source": [
        "#Creamos una grafica para ver los valores atipicos del data frame\n",
        "fig = plt.figure(figsize =(15, 8))\n",
        "filtroN.plot(kind='box', vert=False)\n",
        "plt.title(\"Valores Atípicos del Dataframe\")\n",
        "plt.show()"
      ],
      "metadata": {
        "colab": {
          "base_uri": "https://localhost:8080/",
          "height": 298
        },
        "id": "YeMLfB1WPLok",
        "outputId": "3d4f8ad6-74fe-41ae-a7d1-b527f0e14f07"
      },
      "execution_count": 14,
      "outputs": [
        {
          "output_type": "display_data",
          "data": {
            "text/plain": [
              "<Figure size 1080x576 with 0 Axes>"
            ]
          },
          "metadata": {}
        },
        {
          "output_type": "display_data",
          "data": {
            "text/plain": [
              "<Figure size 432x288 with 1 Axes>"
            ],
            "image/png": "[encoded data removed]"
          },
          "metadata": {
            "needs_background": "light"
          }
        }
      ]
    },
    {
      "cell_type": "code",
      "source": [
        "#Encontramos los valores extremos\n",
        "y=filtroN\n",
        "\n",
        "percentile25=y.quantile(0.25) #Q1\n",
        "percentile75=y.quantile(0.75) #Q3\n",
        "iqr= percentile75 - percentile25\n",
        "\n",
        "Limite_Superior_iqr= percentile75 + 1.5*iqr\n",
        "Limite_Inferior_iqr= percentile25 - 1.5*iqr\n",
        "print(\"Limite superior permitido\", Limite_Superior_iqr)\n",
        "print(\"Limite inferior permitido\", Limite_Inferior_iqr)"
      ],
      "metadata": {
        "colab": {
          "base_uri": "https://localhost:8080/"
        },
        "id": "pfWlepw5Qgs0",
        "outputId": "7eda45a4-49ab-4d5a-9b0b-9ffcb7d7cffc"
      },
      "execution_count": 15,
      "outputs": [
        {
          "output_type": "stream",
          "name": "stdout",
          "text": [
            "Limite superior permitido number_of_operators                              3.5\n",
            "number_of_available_trolleys                     2.5\n",
            "serving_customer                                 1.0\n",
            "maximum_number_of_vehicles_in_the_traffic_jam    5.0\n",
            "dtype: float64\n",
            "Limite inferior permitido number_of_operators                             -0.5\n",
            "number_of_available_trolleys                    -1.5\n",
            "serving_customer                                 1.0\n",
            "maximum_number_of_vehicles_in_the_traffic_jam    5.0\n",
            "dtype: float64\n"
          ]
        }
      ]
    },
    {
      "cell_type": "code",
      "source": [
        "#Convertimos los outliers en valores nulos\n",
        "outliers_iqr= filtroN[(y<=Limite_Superior_iqr)&(y>=Limite_Inferior_iqr)]\n",
        "outliers_iqr"
      ],
      "metadata": {
        "colab": {
          "base_uri": "https://localhost:8080/",
          "height": 424
        },
        "id": "fAIDkC8FPLqS",
        "outputId": "e01cf86c-61ca-43f6-b7f9-07f797fa239c"
      },
      "execution_count": 16,
      "outputs": [
        {
          "output_type": "execute_result",
          "data": {
            "text/plain": [
              "     number_of_operators  number_of_available_trolleys  serving_customer  \\\n",
              "0                    1.0                           1.0               1.0   \n",
              "1                    2.0                           1.0               1.0   \n",
              "2                    1.0                           0.0               1.0   \n",
              "3                    1.0                           2.0               1.0   \n",
              "4                    2.0                           2.0               1.0   \n",
              "..                   ...                           ...               ...   \n",
              "177                  1.0                           0.0               1.0   \n",
              "178                  1.0                           0.0               1.0   \n",
              "179                  1.0                           1.0               1.0   \n",
              "180                  2.0                           0.0               1.0   \n",
              "181                  2.0                           1.0               1.0   \n",
              "\n",
              "     maximum_number_of_vehicles_in_the_traffic_jam  \n",
              "0                                              5.0  \n",
              "1                                              5.0  \n",
              "2                                              5.0  \n",
              "3                                              5.0  \n",
              "4                                              5.0  \n",
              "..                                             ...  \n",
              "177                                            5.0  \n",
              "178                                            5.0  \n",
              "179                                            5.0  \n",
              "180                                            5.0  \n",
              "181                                            5.0  \n",
              "\n",
              "[182 rows x 4 columns]"
            ],
            "text/html": [
              "\n",
              "  <div id=\"df-2c0a5d9e-3c73-4248-8a83-7bf58944950d\">\n",
              "    <div class=\"colab-df-container\">\n",
              "      <div>\n",
              "<style scoped>\n",
              "    .dataframe tbody tr th:only-of-type {\n",
              "        vertical-align: middle;\n",
              "    }\n",
              "\n",
              "    .dataframe tbody tr th {\n",
              "        vertical-align: top;\n",
              "    }\n",
              "\n",
              "    .dataframe thead th {\n",
              "        text-align: right;\n",
              "    }\n",
              "</style>\n",
              "<table border=\"1\" class=\"dataframe\">\n",
              "  <thead>\n",
              "    <tr style=\"text-align: right;\">\n",
              "      <th></th>\n",
              "      <th>number_of_operators</th>\n",
              "      <th>number_of_available_trolleys</th>\n",
              "      <th>serving_customer</th>\n",
              "      <th>maximum_number_of_vehicles_in_the_traffic_jam</th>\n",
              "    </tr>\n",
              "  </thead>\n",
              "  <tbody>\n",
              "    <tr>\n",
              "      <th>0</th>\n",
              "      <td>1.0</td>\n",
              "      <td>1.0</td>\n",
              "      <td>1.0</td>\n",
              "      <td>5.0</td>\n",
              "    </tr>\n",
              "    <tr>\n",
              "      <th>1</th>\n",
              "      <td>2.0</td>\n",
              "      <td>1.0</td>\n",
              "      <td>1.0</td>\n",
              "      <td>5.0</td>\n",
              "    </tr>\n",
              "    <tr>\n",
              "      <th>2</th>\n",
              "      <td>1.0</td>\n",
              "      <td>0.0</td>\n",
              "      <td>1.0</td>\n",
              "      <td>5.0</td>\n",
              "    </tr>\n",
              "    <tr>\n",
              "      <th>3</th>\n",
              "      <td>1.0</td>\n",
              "      <td>2.0</td>\n",
              "      <td>1.0</td>\n",
              "      <td>5.0</td>\n",
              "    </tr>\n",
              "    <tr>\n",
              "      <th>4</th>\n",
              "      <td>2.0</td>\n",
              "      <td>2.0</td>\n",
              "      <td>1.0</td>\n",
              "      <td>5.0</td>\n",
              "    </tr>\n",
              "    <tr>\n",
              "      <th>...</th>\n",
              "      <td>...</td>\n",
              "      <td>...</td>\n",
              "      <td>...</td>\n",
              "      <td>...</td>\n",
              "    </tr>\n",
              "    <tr>\n",
              "      <th>177</th>\n",
              "      <td>1.0</td>\n",
              "      <td>0.0</td>\n",
              "      <td>1.0</td>\n",
              "      <td>5.0</td>\n",
              "    </tr>\n",
              "    <tr>\n",
              "      <th>178</th>\n",
              "      <td>1.0</td>\n",
              "      <td>0.0</td>\n",
              "      <td>1.0</td>\n",
              "      <td>5.0</td>\n",
              "    </tr>\n",
              "    <tr>\n",
              "      <th>179</th>\n",
              "      <td>1.0</td>\n",
              "      <td>1.0</td>\n",
              "      <td>1.0</td>\n",
              "      <td>5.0</td>\n",
              "    </tr>\n",
              "    <tr>\n",
              "      <th>180</th>\n",
              "      <td>2.0</td>\n",
              "      <td>0.0</td>\n",
              "      <td>1.0</td>\n",
              "      <td>5.0</td>\n",
              "    </tr>\n",
              "    <tr>\n",
              "      <th>181</th>\n",
              "      <td>2.0</td>\n",
              "      <td>1.0</td>\n",
              "      <td>1.0</td>\n",
              "      <td>5.0</td>\n",
              "    </tr>\n",
              "  </tbody>\n",
              "</table>\n",
              "<p>182 rows × 4 columns</p>\n",
              "</div>\n",
              "      <button class=\"colab-df-convert\" onclick=\"convertToInteractive('df-2c0a5d9e-3c73-4248-8a83-7bf58944950d')\"\n",
              "              title=\"Convert this dataframe to an interactive table.\"\n",
              "              style=\"display:none;\">\n",
              "        \n",
              "  <svg xmlns=\"http://www.w3.org/2000/svg\" height=\"24px\"viewBox=\"0 0 24 24\"\n",
              "       width=\"24px\">\n",
              "    <path d=\"M0 0h24v24H0V0z\" fill=\"none\"/>\n",
              "    <path d=\"M18.56 5.44l.94 2.06.94-2.06 2.06-.94-2.06-.94-.94-2.06-.94 2.06-2.06.94zm-11 1L8.5 8.5l.94-2.06 2.06-.94-2.06-.94L8.5 2.5l-.94 2.06-2.06.94zm10 10l.94 2.06.94-2.06 2.06-.94-2.06-.94-.94-2.06-.94 2.06-2.06.94z\"/><path d=\"M17.41 7.96l-1.37-1.37c-.4-.4-.92-.59-1.43-.59-.52 0-1.04.2-1.43.59L10.3 9.45l-7.72 7.72c-.78.78-.78 2.05 0 2.83L4 21.41c.39.39.9.59 1.41.59.51 0 1.02-.2 1.41-.59l7.78-7.78 2.81-2.81c.8-.78.8-2.07 0-2.86zM5.41 20L4 18.59l7.72-7.72 1.47 1.35L5.41 20z\"/>\n",
              "  </svg>\n",
              "      </button>\n",
              "      \n",
              "  <style>\n",
              "    .colab-df-container {\n",
              "      display:flex;\n",
              "      flex-wrap:wrap;\n",
              "      gap: 12px;\n",
              "    }\n",
              "\n",
              "    .colab-df-convert {\n",
              "      background-color: #E8F0FE;\n",
              "      border: none;\n",
              "      border-radius: 50%;\n",
              "      cursor: pointer;\n",
              "      display: none;\n",
              "      fill: #1967D2;\n",
              "      height: 32px;\n",
              "      padding: 0 0 0 0;\n",
              "      width: 32px;\n",
              "    }\n",
              "\n",
              "    .colab-df-convert:hover {\n",
              "      background-color: #E2EBFA;\n",
              "      box-shadow: 0px 1px 2px rgba(60, 64, 67, 0.3), 0px 1px 3px 1px rgba(60, 64, 67, 0.15);\n",
              "      fill: #174EA6;\n",
              "    }\n",
              "\n",
              "    [theme=dark] .colab-df-convert {\n",
              "      background-color: #3B4455;\n",
              "      fill: #D2E3FC;\n",
              "    }\n",
              "\n",
              "    [theme=dark] .colab-df-convert:hover {\n",
              "      background-color: #434B5C;\n",
              "      box-shadow: 0px 1px 3px 1px rgba(0, 0, 0, 0.15);\n",
              "      filter: drop-shadow(0px 1px 2px rgba(0, 0, 0, 0.3));\n",
              "      fill: #FFFFFF;\n",
              "    }\n",
              "  </style>\n",
              "\n",
              "      <script>\n",
              "        const buttonEl =\n",
              "          document.querySelector('#df-2c0a5d9e-3c73-4248-8a83-7bf58944950d button.colab-df-convert');\n",
              "        buttonEl.style.display =\n",
              "          google.colab.kernel.accessAllowed ? 'block' : 'none';\n",
              "\n",
              "        async function convertToInteractive(key) {\n",
              "          const element = document.querySelector('#df-2c0a5d9e-3c73-4248-8a83-7bf58944950d');\n",
              "          const dataTable =\n",
              "            await google.colab.kernel.invokeFunction('convertToInteractive',\n",
              "                                                     [key], {});\n",
              "          if (!dataTable) return;\n",
              "\n",
              "          const docLinkHtml = 'Like what you see? Visit the ' +\n",
              "            '<a target=\"_blank\" href=https://colab.research.google.com/notebooks/data_table.ipynb>data table notebook</a>'\n",
              "            + ' to learn more about interactive tables.';\n",
              "          element.innerHTML = '';\n",
              "          dataTable['output_type'] = 'display_data';\n",
              "          await google.colab.output.renderOutput(dataTable, element);\n",
              "          const docLink = document.createElement('div');\n",
              "          docLink.innerHTML = docLinkHtml;\n",
              "          element.appendChild(docLink);\n",
              "        }\n",
              "      </script>\n",
              "    </div>\n",
              "  </div>\n",
              "  "
            ]
          },
          "metadata": {},
          "execution_count": 16
        }
      ]
    },
    {
      "cell_type": "code",
      "source": [
        "#Comprobamos los valores nulos\n",
        "valores_nulos=outliers_iqr.isnull().sum()\n",
        "valores_nulos\n"
      ],
      "metadata": {
        "colab": {
          "base_uri": "https://localhost:8080/"
        },
        "id": "69sDq9OURAYO",
        "outputId": "bfa9cca8-bfdc-44e6-d965-23dbaaed679a"
      },
      "execution_count": 17,
      "outputs": [
        {
          "output_type": "execute_result",
          "data": {
            "text/plain": [
              "number_of_operators                              10\n",
              "number_of_available_trolleys                      2\n",
              "serving_customer                                  0\n",
              "maximum_number_of_vehicles_in_the_traffic_jam     2\n",
              "dtype: int64"
            ]
          },
          "metadata": {},
          "execution_count": 17
        }
      ]
    },
    {
      "cell_type": "code",
      "source": [
        "#Remplazamos los valores nulos por la media\n",
        "Valores_finales=outliers_iqr.copy()\n",
        "Valores_finales=Valores_finales.fillna(round(outliers_iqr.mean(),1))\n",
        "Valores_finales"
      ],
      "metadata": {
        "id": "3ggtefR-YjHW"
      },
      "execution_count": null,
      "outputs": []
    },
    {
      "cell_type": "code",
      "source": [
        "#Comprobamos los valores nulos\n",
        "valores_nulos=Valores_finales.isnull().sum()\n",
        "valores_nulos"
      ],
      "metadata": {
        "colab": {
          "base_uri": "https://localhost:8080/"
        },
        "id": "fK3m0B_hZLAr",
        "outputId": "9294e447-71ea-40f3-b22f-c3a73756efd4"
      },
      "execution_count": 19,
      "outputs": [
        {
          "output_type": "execute_result",
          "data": {
            "text/plain": [
              "number_of_operators                              0\n",
              "number_of_available_trolleys                     0\n",
              "serving_customer                                 0\n",
              "maximum_number_of_vehicles_in_the_traffic_jam    0\n",
              "dtype: int64"
            ]
          },
          "metadata": {},
          "execution_count": 19
        }
      ]
    },
    {
      "cell_type": "code",
      "source": [
        "#Concatenamos\n",
        "lastmile_delivery_operations_mit_lift_lab_limpios = pd.concat([filtroX,filtroO,Valores_finales], axis=1)\n",
        "lastmile_delivery_operations_mit_lift_lab_limpios"
      ],
      "metadata": {
        "id": "t2A6dIRF2dGg"
      },
      "execution_count": null,
      "outputs": []
    },
    {
      "cell_type": "code",
      "source": [
        "#Convertimos a CSV y descargamos\n",
        "lastmile_delivery_operations_mit_lift_lab_limpios.to_csv(\"lastmile_delivery_operations_mit_lift_lab_limpios.csv\")"
      ],
      "metadata": {
        "id": "ch-Ej43PdrCD"
      },
      "execution_count": 23,
      "outputs": []
    },
    {
      "cell_type": "code",
      "source": [
        "from google.colab import files\n",
        "files.download(\"lastmile_delivery_operations_mit_lift_lab_limpios.csv\")"
      ],
      "metadata": {
        "colab": {
          "base_uri": "https://localhost:8080/",
          "height": 17
        },
        "id": "753tLCdAd4xA",
        "outputId": "07e5e7e6-3176-48ce-8afe-62d48d0d1145"
      },
      "execution_count": 24,
      "outputs": [
        {
          "output_type": "display_data",
          "data": {
            "text/plain": [
              "<IPython.core.display.Javascript object>"
            ],
            "application/javascript": [
              "\n",
              "    async function download(id, filename, size) {\n",
              "      if (!google.colab.kernel.accessAllowed) {\n",
              "        return;\n",
              "      }\n",
              "      const div = document.createElement('div');\n",
              "      const label = document.createElement('label');\n",
              "      label.textContent = `Downloading \"${filename}\": `;\n",
              "      div.appendChild(label);\n",
              "      const progress = document.createElement('progress');\n",
              "      progress.max = size;\n",
              "      div.appendChild(progress);\n",
              "      document.body.appendChild(div);\n",
              "\n",
              "      const buffers = [];\n",
              "      let downloaded = 0;\n",
              "\n",
              "      const channel = await google.colab.kernel.comms.open(id);\n",
              "      // Send a message to notify the kernel that we're ready.\n",
              "      channel.send({})\n",
              "\n",
              "      for await (const message of channel.messages) {\n",
              "        // Send a message to notify the kernel that we're ready.\n",
              "        channel.send({})\n",
              "        if (message.buffers) {\n",
              "          for (const buffer of message.buffers) {\n",
              "            buffers.push(buffer);\n",
              "            downloaded += buffer.byteLength;\n",
              "            progress.value = downloaded;\n",
              "          }\n",
              "        }\n",
              "      }\n",
              "      const blob = new Blob(buffers, {type: 'application/binary'});\n",
              "      const a = document.createElement('a');\n",
              "      a.href = window.URL.createObjectURL(blob);\n",
              "      a.download = filename;\n",
              "      div.appendChild(a);\n",
              "      a.click();\n",
              "      div.remove();\n",
              "    }\n",
              "  "
            ]
          },
          "metadata": {}
        },
        {
          "output_type": "display_data",
          "data": {
            "text/plain": [
              "<IPython.core.display.Javascript object>"
            ],
            "application/javascript": [
              "download(\"download_e2312429-2d9e-4c06-b27b-7e2f5d37ac4a\", \"lastmile_delivery_operations_mit_lift_lab_limpios.csv\", 86681)"
            ]
          },
          "metadata": {}
        }
      ]
    }
  ]
}