{
  "nbformat": 4,
  "nbformat_minor": 0,
  "metadata": {
    "colab": {
      "provenance": []
    },
    "kernelspec": {
      "name": "python3",
      "display_name": "Python 3"
    },
    "language_info": {
      "name": "python"
    }
  },
  "cells": [
    {
      "cell_type": "code",
      "source": [
        "#instalamos funpymodeling\n",
        "%pip install funpymodeling"
      ],
      "metadata": {
        "id": "WJiVy3ToFNkA"
      },
      "execution_count": null,
      "outputs": []
    },
    {
      "cell_type": "code",
      "execution_count": 2,
      "metadata": {
        "id": "oyOkM19c3rjE"
      },
      "outputs": [],
      "source": [
        "#importamos las librerias\n",
        "import pandas as pd\n",
        "import numpy as np\n",
        "import matplotlib.pyplot as plt\n",
        "from funpymodeling.exploratory import freq_tbl\n"
      ]
    },
    {
      "cell_type": "code",
      "source": [
        "#importamos el archivo desde la computadora\n",
        "from google.colab import files\n",
        "files.upload()"
      ],
      "metadata": {
        "id": "9jkjqkZ34CuU"
      },
      "execution_count": null,
      "outputs": []
    },
    {
      "cell_type": "code",
      "source": [
        "#convertimos el archivo en un dataframe\n",
        "data1 = pd.read_csv(\"lastmile_delivery_operations_mit_lift_lab_serving_customer.csv\")\n",
        "data1"
      ],
      "metadata": {
        "id": "OkvH-Cep6MUS"
      },
      "execution_count": null,
      "outputs": []
    },
    {
      "cell_type": "code",
      "source": [
        "#comprobamos informacion del dataframe y el tipo de valor de cada columna\n",
        "data1.info()"
      ],
      "metadata": {
        "colab": {
          "base_uri": "https://localhost:8080/"
        },
        "id": "PgncOVh16aVj",
        "outputId": "b4829eaf-9fa1-48bb-e8d0-9b19b0cb2d3b"
      },
      "execution_count": 5,
      "outputs": [
        {
          "output_type": "stream",
          "name": "stdout",
          "text": [
            "<class 'pandas.core.frame.DataFrame'>\n",
            "RangeIndex: 35 entries, 0 to 34\n",
            "Data columns (total 27 columns):\n",
            " #   Column                                  Non-Null Count  Dtype  \n",
            "---  ------                                  --------------  -----  \n",
            " 0   _child_record_id                        35 non-null     object \n",
            " 1   _record_id                              35 non-null     object \n",
            " 2   _parent_id                              35 non-null     object \n",
            " 3   _title                                  35 non-null     object \n",
            " 4   _version                                35 non-null     int64  \n",
            " 5   _created_at                             35 non-null     object \n",
            " 6   _updated_at                             35 non-null     object \n",
            " 7   _created_by                             35 non-null     object \n",
            " 8   _updated_by                             35 non-null     object \n",
            " 9   _index                                  35 non-null     int64  \n",
            " 10  _geometry                               35 non-null     object \n",
            " 11  _latitude                               35 non-null     float64\n",
            " 12  _longitude                              35 non-null     float64\n",
            " 13  _changeset_id                           35 non-null     object \n",
            " 14  _created_duration                       35 non-null     int64  \n",
            " 15  _updated_duration                       35 non-null     int64  \n",
            " 16  _edited_duration                        35 non-null     int64  \n",
            " 17  name_of_the_store                       35 non-null     object \n",
            " 18  entering_the_store                      35 non-null     object \n",
            " 19  number_of_customers_in_store            35 non-null     int64  \n",
            " 20  number_of_suppliers_in_store            35 non-null     int64  \n",
            " 21  picture_cargo_being_delivered           25 non-null     object \n",
            " 22  picture_cargo_being_delivered_captions  2 non-null      object \n",
            " 23  picture_cargo_being_delivered_urls      25 non-null     object \n",
            " 24  number_of_cases_boxes_delivered         35 non-null     int64  \n",
            " 25  trolley_in_use                          35 non-null     object \n",
            " 26  leaving_the_store                       35 non-null     object \n",
            "dtypes: float64(2), int64(8), object(17)\n",
            "memory usage: 7.5+ KB\n"
          ]
        }
      ]
    },
    {
      "cell_type": "code",
      "source": [
        "#Comprobamos los valores nulos y comprobamos que tipo de dato es cada columna que tiene valores nulos\n",
        "valores_nulos=data1.isnull().sum()\n",
        "valores_nulos\n",
        "\n"
      ],
      "metadata": {
        "id": "7mozokUy6eAT"
      },
      "execution_count": null,
      "outputs": []
    },
    {
      "cell_type": "code",
      "source": [
        "#se crea una copia del dataframe en la cual eliminaremos los valores nulos de las columnas tipo objetc y por lo tanto ser solo texto\n",
        "#se ha decidido sustituir por el mensaje de VACIO\n",
        "data=data1.copy()\n",
        "data[\"picture_cargo_being_delivered\"] =data[\"picture_cargo_being_delivered\"].fillna(\"VACIO\")\n",
        "data[\"picture_cargo_being_delivered_captions\"] =data[\"picture_cargo_being_delivered_captions\"].fillna(\"VACIO\")\n",
        "data[\"picture_cargo_being_delivered_urls\"] =data[\"picture_cargo_being_delivered_urls\"].fillna(\"VACIO\")"
      ],
      "metadata": {
        "id": "WOpFqsNn75Pz"
      },
      "execution_count": 7,
      "outputs": []
    },
    {
      "cell_type": "code",
      "source": [
        "#Comprobamos los valores nulos despues de la sustitucion de las columnas objeto\n",
        "valores_nulos=data.isnull().sum()\n",
        "valores_nulos"
      ],
      "metadata": {
        "id": "F_pSvQyV7A61"
      },
      "execution_count": null,
      "outputs": []
    },
    {
      "cell_type": "code",
      "source": [
        "#Separamos el dataframe en dos filtros, uno con variables cualitativas y otro con valores cuantitativos\n",
        "#se decio no agregar la columna 25 vacio ya que no tiene ningun dato que no sea nulo \n",
        "filtroO=data.iloc[ : , [0,1,2,3,5,6,7,8,10,13,17,18,19,21,22,23,25,26]]\n",
        "filtroN=data.iloc[ : , [4,9,14,15,16,19,20,24]]  \n",
        "filtroX=data.iloc[ : , [11,12]]  "
      ],
      "metadata": {
        "id": "iOKsGL19OJpv"
      },
      "execution_count": 10,
      "outputs": []
    },
    {
      "cell_type": "code",
      "source": [
        "#Creamos una grafica para ver los valores atipicos del data frame\n",
        "fig = plt.figure(figsize =(15, 8))\n",
        "filtroN.plot(kind='box', vert=False)\n",
        "plt.title(\"Valores Atípicos del Dataframe\")\n",
        "plt.show()"
      ],
      "metadata": {
        "id": "YeMLfB1WPLok"
      },
      "execution_count": null,
      "outputs": []
    },
    {
      "cell_type": "code",
      "source": [
        "#Encontramos los valores extremos\n",
        "y=filtroN\n",
        "\n",
        "percentile25=y.quantile(0.25) #Q1\n",
        "percentile75=y.quantile(0.75) #Q3\n",
        "iqr= percentile75 - percentile25\n",
        "\n",
        "Limite_Superior_iqr= percentile75 + 1.5*iqr\n",
        "Limite_Inferior_iqr= percentile25 - 1.5*iqr\n",
        "print(\"Limite superior permitido\", Limite_Superior_iqr)\n",
        "print(\"Limite inferior permitido\", Limite_Inferior_iqr)"
      ],
      "metadata": {
        "id": "pfWlepw5Qgs0"
      },
      "execution_count": null,
      "outputs": []
    },
    {
      "cell_type": "code",
      "source": [
        "#Convertimos los outliers en valores nulos\n",
        "outliers_iqr= filtroN[(y<=Limite_Superior_iqr)&(y>=Limite_Inferior_iqr)]\n",
        "outliers_iqr"
      ],
      "metadata": {
        "id": "fAIDkC8FPLqS"
      },
      "execution_count": null,
      "outputs": []
    },
    {
      "cell_type": "code",
      "source": [
        "#Comprobamos los valores nulos\n",
        "valores_nulos=outliers_iqr.isnull().sum()\n",
        "valores_nulos\n"
      ],
      "metadata": {
        "colab": {
          "base_uri": "https://localhost:8080/"
        },
        "id": "69sDq9OURAYO",
        "outputId": "7dfeccfd-c96a-4d3c-a54c-42c7156d1692"
      },
      "execution_count": 14,
      "outputs": [
        {
          "output_type": "execute_result",
          "data": {
            "text/plain": [
              "_version                           0\n",
              "_index                             0\n",
              "_created_duration                  8\n",
              "_updated_duration                  4\n",
              "_edited_duration                   4\n",
              "number_of_customers_in_store       2\n",
              "number_of_suppliers_in_store       1\n",
              "number_of_cases_boxes_delivered    3\n",
              "dtype: int64"
            ]
          },
          "metadata": {},
          "execution_count": 14
        }
      ]
    },
    {
      "cell_type": "code",
      "source": [
        "#Remplazamos los valores nulos por la media\n",
        "Valores_finales=outliers_iqr.copy()\n",
        "Valores_finales=Valores_finales.fillna(round(outliers_iqr.mean(),1))\n",
        "Valores_finales"
      ],
      "metadata": {
        "id": "3ggtefR-YjHW"
      },
      "execution_count": null,
      "outputs": []
    },
    {
      "cell_type": "code",
      "source": [
        "#Comprobamos los valores nulos\n",
        "valores_nulos=Valores_finales.isnull().sum()\n",
        "valores_nulos"
      ],
      "metadata": {
        "colab": {
          "base_uri": "https://localhost:8080/"
        },
        "id": "fK3m0B_hZLAr",
        "outputId": "54597320-1645-487f-eeef-30e250865ad1"
      },
      "execution_count": 16,
      "outputs": [
        {
          "output_type": "execute_result",
          "data": {
            "text/plain": [
              "_version                           0\n",
              "_index                             0\n",
              "_created_duration                  0\n",
              "_updated_duration                  0\n",
              "_edited_duration                   0\n",
              "number_of_customers_in_store       0\n",
              "number_of_suppliers_in_store       0\n",
              "number_of_cases_boxes_delivered    0\n",
              "dtype: int64"
            ]
          },
          "metadata": {},
          "execution_count": 16
        }
      ]
    },
    {
      "cell_type": "code",
      "source": [
        "#Concatenamos\n",
        "lastmile_delivery_operations_mit_lift_lab_serving_customer_limpios = pd.concat([filtroX,filtroO,Valores_finales], axis=1)\n",
        "lastmile_delivery_operations_mit_lift_lab_serving_customer_limpios"
      ],
      "metadata": {
        "id": "t2A6dIRF2dGg"
      },
      "execution_count": null,
      "outputs": []
    },
    {
      "cell_type": "code",
      "source": [
        "#Convertimos a CSV y descargamos\n",
        "lastmile_delivery_operations_mit_lift_lab_serving_customer_limpios.to_csv(\"lastmile_delivery_operations_mit_lift_lab_serving_customer_limpios.csv\")"
      ],
      "metadata": {
        "id": "ch-Ej43PdrCD"
      },
      "execution_count": 18,
      "outputs": []
    },
    {
      "cell_type": "code",
      "source": [
        "from google.colab import files\n",
        "files.download(\"lastmile_delivery_operations_mit_lift_lab_serving_customer_limpios.csv\")"
      ],
      "metadata": {
        "colab": {
          "base_uri": "https://localhost:8080/",
          "height": 17
        },
        "id": "753tLCdAd4xA",
        "outputId": "8d619fdc-14d9-44d3-8923-7d2b8dba997c"
      },
      "execution_count": 19,
      "outputs": [
        {
          "output_type": "display_data",
          "data": {
            "text/plain": [
              "<IPython.core.display.Javascript object>"
            ],
            "application/javascript": [
              "\n",
              "    async function download(id, filename, size) {\n",
              "      if (!google.colab.kernel.accessAllowed) {\n",
              "        return;\n",
              "      }\n",
              "      const div = document.createElement('div');\n",
              "      const label = document.createElement('label');\n",
              "      label.textContent = `Downloading \"${filename}\": `;\n",
              "      div.appendChild(label);\n",
              "      const progress = document.createElement('progress');\n",
              "      progress.max = size;\n",
              "      div.appendChild(progress);\n",
              "      document.body.appendChild(div);\n",
              "\n",
              "      const buffers = [];\n",
              "      let downloaded = 0;\n",
              "\n",
              "      const channel = await google.colab.kernel.comms.open(id);\n",
              "      // Send a message to notify the kernel that we're ready.\n",
              "      channel.send({})\n",
              "\n",
              "      for await (const message of channel.messages) {\n",
              "        // Send a message to notify the kernel that we're ready.\n",
              "        channel.send({})\n",
              "        if (message.buffers) {\n",
              "          for (const buffer of message.buffers) {\n",
              "            buffers.push(buffer);\n",
              "            downloaded += buffer.byteLength;\n",
              "            progress.value = downloaded;\n",
              "          }\n",
              "        }\n",
              "      }\n",
              "      const blob = new Blob(buffers, {type: 'application/binary'});\n",
              "      const a = document.createElement('a');\n",
              "      a.href = window.URL.createObjectURL(blob);\n",
              "      a.download = filename;\n",
              "      div.appendChild(a);\n",
              "      a.click();\n",
              "      div.remove();\n",
              "    }\n",
              "  "
            ]
          },
          "metadata": {}
        },
        {
          "output_type": "display_data",
          "data": {
            "text/plain": [
              "<IPython.core.display.Javascript object>"
            ],
            "application/javascript": [
              "download(\"download_8b15fd49-9eff-4daa-a389-bdc4300d01ec\", \"lastmile_delivery_operations_mit_lift_lab_serving_customer_limpios.csv\", 22342)"
            ]
          },
          "metadata": {}
        }
      ]
    }
  ]
}